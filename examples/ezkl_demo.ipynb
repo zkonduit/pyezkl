{
 "cells": [
  {
   "cell_type": "markdown",
   "id": "cf69bb3f-94e6-4dba-92cd-ce08df117d67",
   "metadata": {},
   "source": [
    "## EZKL Jupyter Notebook Demo \n"
   ]
  },
  {
   "cell_type": "code",
   "execution_count": 6,
   "id": "95613ee9",
   "metadata": {},
   "outputs": [
    {
     "name": "stdout",
     "output_type": "stream",
     "text": [
      "============= Diagnostic Run torch.onnx.export version 2.0.1+cu117 =============\n",
      "verbose: False, log level: Level.ERROR\n",
      "======================= 0 NONE 0 NOTE 0 WARNING 0 ERROR ========================\n",
      "\n"
     ]
    }
   ],
   "source": [
    "# here we create and (potentially train a model)\n",
    "\n",
    "from torch import nn\n",
    "import ezkl\n",
    "import os\n",
    "import json \n",
    "\n",
    "\n",
    "# Defines the model\n",
    "# we got convs, we got relu, we got linear layers \n",
    "# What else could one want ???? \n",
    "\n",
    "class MyModel(nn.Module):\n",
    "    def __init__(self):\n",
    "        super(MyModel, self).__init__()\n",
    "\n",
    "        self.conv1 = nn.Conv2d(in_channels=1, out_channels=2, kernel_size=5, stride=2)\n",
    "        self.conv2 = nn.Conv2d(in_channels=2, out_channels=3, kernel_size=5, stride=2)\n",
    "        \n",
    "        self.relu = nn.ReLU()\n",
    "\n",
    "        self.d1 = nn.Linear(48, 48)\n",
    "        self.d2 = nn.Linear(48, 10)\n",
    "\n",
    "    def forward(self, x):\n",
    "        # 32x1x28x28 => 32x32x26x26\n",
    "        x = self.conv1(x)\n",
    "        x = self.relu(x)\n",
    "        x = self.conv2(x)\n",
    "        x = self.relu(x)\n",
    "\n",
    "        # flatten => 32 x (32*26*26)\n",
    "        x = x.flatten(start_dim = 1)\n",
    "\n",
    "        # 32 x (32*26*26) => 32x128\n",
    "        x = self.d1(x)\n",
    "        x = self.relu(x)\n",
    "\n",
    "        # logits => 32x10\n",
    "        logits = self.d2(x)\n",
    "       \n",
    "        return logits\n",
    "\n",
    "\n",
    "circuit = MyModel()\n",
    "\n",
    "# Train the model as you like here (skipped for brevity)\n",
    "\n",
    "# After training, export to onnx (network.onnx) and create a data file (input.json)\n",
    "ezkl.export(circuit, input_shape = [1,28,28])\n"
   ]
  },
  {
   "cell_type": "code",
   "execution_count": 7,
   "id": "8b74dcee",
   "metadata": {},
   "outputs": [],
   "source": [
    "params_path = os.path.join('kzg.params')\n",
    "\n",
    "res = ezkl.gen_srs(params_path, 17)"
   ]
  },
  {
   "cell_type": "code",
   "execution_count": 8,
   "id": "b1c561a8",
   "metadata": {},
   "outputs": [],
   "source": [
    "\n",
    "# HERE WE SETUP THE CIRCUIT PARAMS \n",
    "# WE GOT KEYS \n",
    "# WE GOT CIRCUIT PARAMETERS \n",
    "# EVERYTHING ANYONE HAS EVER NEEDED FOR ZK \n",
    "\n",
    "data_path = os.path.join('input.json')\n",
    "model_path = os.path.join('network.onnx')\n",
    "pk_path = os.path.join('test.pk')\n",
    "vk_path = os.path.join('test.vk')\n",
    "circuit_params_path = os.path.join('circuit.params')\n",
    "params_path = os.path.join('kzg.params')\n",
    "\n",
    "res = ezkl.setup(\n",
    "        model_path,\n",
    "        vk_path,\n",
    "        pk_path,\n",
    "        params_path,\n",
    "        circuit_params_path,\n",
    "    )\n",
    "\n",
    "assert res == True\n",
    "assert os.path.isfile(vk_path)\n",
    "assert os.path.isfile(pk_path)\n",
    "assert os.path.isfile(circuit_params_path)"
   ]
  },
  {
   "cell_type": "code",
   "execution_count": 9,
   "id": "c384cbc8",
   "metadata": {},
   "outputs": [],
   "source": [
    "# GENERATE A PROOF \n",
    "proof_path = os.path.join('test.pf')\n",
    "\n",
    "res = ezkl.prove(\n",
    "        data_path,\n",
    "        model_path,\n",
    "        pk_path,\n",
    "        proof_path,\n",
    "        params_path,\n",
    "        \"poseidon\",\n",
    "        \"single\",\n",
    "        circuit_params_path\n",
    "    )\n",
    "\n",
    "assert res == True\n",
    "assert os.path.isfile(proof_path)"
   ]
  },
  {
   "cell_type": "code",
   "execution_count": 10,
   "id": "76f00d41",
   "metadata": {},
   "outputs": [
    {
     "name": "stdout",
     "output_type": "stream",
     "text": [
      "verified\n"
     ]
    }
   ],
   "source": [
    "# VERIFY IT \n",
    "\n",
    "res = ezkl.verify(\n",
    "        proof_path,\n",
    "        circuit_params_path,\n",
    "        vk_path,\n",
    "        params_path,\n",
    "    )\n",
    "\n",
    "assert res == True\n",
    "print(\"verified\")"
   ]
  }
 ],
 "metadata": {
  "kernelspec": {
   "display_name": "Python 3 (ipykernel)",
   "language": "python",
   "name": "python3"
  },
  "language_info": {
   "codemirror_mode": {
    "name": "ipython",
    "version": 3
   },
   "file_extension": ".py",
   "mimetype": "text/x-python",
   "name": "python",
   "nbconvert_exporter": "python",
   "pygments_lexer": "ipython3",
   "version": "3.11.3"
  }
 },
 "nbformat": 4,
 "nbformat_minor": 5
}
